{
 "cells": [
  {
   "cell_type": "markdown",
   "metadata": {},
   "source": [
    "# Department of Defense SBIR Awards"
   ]
  },
  {
   "cell_type": "code",
   "execution_count": 47,
   "metadata": {},
   "outputs": [],
   "source": [
    "import json\n",
    "import matplotlib.pyplot as plt\n",
    "import numpy as np\n",
    "import os\n",
    "import pandas as pd\n",
    "import re\n",
    "import urllib.parse\n",
    "\n",
    "from mdutils.mdutils import MdUtils\n",
    "from tqdm.notebook import tqdm"
   ]
  },
  {
   "cell_type": "markdown",
   "metadata": {},
   "source": [
    "# Load Data"
   ]
  },
  {
   "cell_type": "code",
   "execution_count": 51,
   "metadata": {},
   "outputs": [],
   "source": [
    "# Load data\n",
    "# with open('sbir_ai.json', 'r') as file:\n",
    "#     data = json.load(file)\n",
    "\n",
    "# Convert to dataframe\n",
    "df = pd.read_csv('sbir_dod.csv')\n",
    "\n",
    "# Fill blanks\n",
    "df['ML'] = df.ML.fillna(0)\n",
    "df['DA'] = df.DA.fillna(0)\n",
    "df['AI'] = df.AI.fillna(0)\n",
    "\n",
    "# Convert formats\n",
    "df['Award Amount'] = pd.to_numeric(df['Award Amount'].str.replace('\\,', '', regex=True).str.replace('\\$', '', regex=True))\n",
    "df['Branch'] = df.Branch.fillna('')\n",
    "df['Research Keywords'] = df['Research Keywords'].fillna('')\n",
    "df['Abstract'] = df.Abstract.fillna('')\n",
    "df['Award Title'] = df['Award Title'].str.replace('\\?', ' ', regex=True)"
   ]
  },
  {
   "cell_type": "markdown",
   "metadata": {},
   "source": [
    "# AF, DARPA, MDA"
   ]
  },
  {
   "cell_type": "code",
   "execution_count": 44,
   "metadata": {},
   "outputs": [
    {
     "data": {
      "text/plain": [
       "Index(['Sort ID', 'ID', 'Assignment', 'Company', 'Award Title', 'Agency',\n",
       "       'Branch', 'Phase', 'Program', 'Agency Tracking Number', 'Contract',\n",
       "       'Proposal Award Date', 'Contract End Date', 'Solicitation Number',\n",
       "       'Solicitation Year', 'Topic Code', 'Award Year', 'Award Amount', 'DUNS',\n",
       "       'Hubzone Owned', 'Socially and Economically Disadvantaged',\n",
       "       'Woman Owned', 'Number Employees', 'Company Website', 'Address1',\n",
       "       'Address2', 'City', 'State', 'Zip', 'Contact Name', 'Contact Title',\n",
       "       'Contact Phone', 'Contact Email', 'PI Name', 'PI Title', 'PI Phone',\n",
       "       'PI Email', 'RI Name', 'RI POC Name', 'RI POC Phone',\n",
       "       'Research Keywords', 'Abstract', 'ML', 'DA', 'AI', 'Irrelevant'],\n",
       "      dtype='object')"
      ]
     },
     "execution_count": 44,
     "metadata": {},
     "output_type": "execute_result"
    }
   ],
   "source": [
    "df.columns"
   ]
  },
  {
   "cell_type": "code",
   "execution_count": 52,
   "metadata": {},
   "outputs": [],
   "source": [
    "df_md = df.copy()\n",
    "\n",
    "# Change Assignment\n",
    "df_md.loc[df_md.Assignment == 'Christian', 'Assignment'] = 'CC'\n",
    "df_md.loc[df_md.Assignment == 'Joel', 'Assignment'] = 'JH'\n",
    "\n",
    "# Create filename\n",
    "df_md['filename'] = '[' + df_md['ID'].apply(lambda x: '{:03d}'.format(x)).astype(str) + '] ' + df_md['Award Title']\n",
    "df_md['filename'] = df_md['filename'].str.replace('/', ' or ')\n",
    "df_md['filename'] = df_md['filename'].str.replace(':', ' -')\n",
    "df_md['filename'] = df_md['filename'].str.replace('\\.$', '', regex=True)\n",
    "df_md['filename_exceed'] = df_md['filename'].str.len() > 150\n",
    "df_md['filename'] = df_md['filename'].str[:150]\n",
    "df_md.loc[df_md.filename_exceed, 'filename'] = df_md.loc[df_md.filename_exceed, 'filename'] + '...'\n",
    "df_md['url'] = (df_md.filename.str[0:] + '.md').apply(lambda x: urllib.parse.quote(x))\n",
    "df_md['url'] = 'https://github.com/chrischow/dod_sbir_awards/blob/master/Reports/' + df_md.Assignment + '/' + df_md.url\n",
    "\n",
    "# Clean keywords\n",
    "df_md['Research Keywords'] = df_md['Research Keywords'].str.replace(', ', ',').str.replace(',', ', ').str.lower()"
   ]
  },
  {
   "cell_type": "code",
   "execution_count": 54,
   "metadata": {},
   "outputs": [
    {
     "data": {
      "application/vnd.jupyter.widget-view+json": {
       "model_id": "caa08339ed554b4b9a6bd2ddda5f4ce7",
       "version_major": 2,
       "version_minor": 0
      },
      "text/plain": [
       "  0%|          | 0/2599 [00:00<?, ?it/s]"
      ]
     },
     "metadata": {},
     "output_type": "display_data"
    }
   ],
   "source": [
    "for i in tqdm(range(df_md.shape[0])):\n",
    "    \n",
    "    # Extract information\n",
    "    temp_df = df_md.iloc[i]\n",
    "    filename = temp_df.filename\n",
    "    title = temp_df['Award Title']\n",
    "    abstract = temp_df.Abstract\n",
    "    branch = temp_df.Branch\n",
    "    award_year = temp_df['Award Year']\n",
    "    award_amount = temp_df['Award Amount']\n",
    "    keywords = temp_df['Research Keywords']\n",
    "    temp_id = temp_df['ID']\n",
    "    assignment = temp_df.Assignment\n",
    "    \n",
    "    # Create files\n",
    "    mdFile = MdUtils(file_name=f'Reports/{assignment}/{filename}', title=title)\n",
    "    \n",
    "    # Abstract\n",
    "    mdFile.new_header(level=1, title='Abstract')\n",
    "    mdFile.new_paragraph(abstract)\n",
    "    mdFile.new_line()\n",
    "    \n",
    "    # Award Details\n",
    "    mdFile.new_header(level=1, title='Award Details')\n",
    "    temp_tbl = [\n",
    "        'Branch', 'Award Year', 'Award Amount', 'Keywords', \n",
    "        branch, str(award_year), '${:,.0f}'.format(award_amount), keywords\n",
    "    ]\n",
    "    mdFile.new_table(columns=4, rows=2, text=temp_tbl, text_align='center')\n",
    "    mdFile.new_line()\n",
    "    \n",
    "    # Link back to home\n",
    "    mdFile.new_line()\n",
    "    mdFile.new_paragraph(f'[Back to Home](https://github.com/chrischow/dod_sbir_awards#{temp_id})')\n",
    "    \n",
    "    # Create file\n",
    "    mdFile.create_md_file()"
   ]
  },
  {
   "cell_type": "markdown",
   "metadata": {},
   "source": [
    "## Create README"
   ]
  },
  {
   "cell_type": "code",
   "execution_count": 72,
   "metadata": {},
   "outputs": [],
   "source": [
    "# Create registry\n",
    "registry = pd.DataFrame({\n",
    "    'id': df_md.ID,\n",
    "    'Award Title': df_md['Award Title'],\n",
    "    'Award Year': df_md['Award Year'],\n",
    "    'Research Keywords': df_md['Research Keywords'],\n",
    "    'URL': df_md.url,\n",
    "    'ic': df_md['Assignment']\n",
    "})"
   ]
  },
  {
   "cell_type": "code",
   "execution_count": 80,
   "metadata": {},
   "outputs": [
    {
     "data": {
      "text/plain": [
       "<mdutils.fileutils.fileutils.MarkDownFile at 0x20ede728668>"
      ]
     },
     "execution_count": 80,
     "metadata": {},
     "output_type": "execute_result"
    }
   ],
   "source": [
    "# Create files\n",
    "mdFile = MdUtils(file_name=f'README', title='Department of Defense SBIR Awards')\n",
    "\n",
    "# Abstract\n",
    "mdFile.new_header(level=1, title='About')\n",
    "mdFile.new_paragraph('This repository contains code to generate reports on awards given to companies for DoD projects through the Small Business Innovation Research platform.')\n",
    "mdFile.new_paragraph('The data was downloaded from [SBIR](https://www.sbir.gov/sbirsearch/award/all), processed in Python, and exported as reports in Markdown format for easy reading.')\n",
    "mdFile.new_line()\n",
    "\n",
    "# Awards\n",
    "mdFile.new_header(level=1, title='List of Awards')\n",
    "temp_tbl = [\n",
    "    'ID', 'Award Title', 'Award Year', 'Keywords',  'IC', 'URL'\n",
    "]\n",
    "\n",
    "for i in range(registry.shape[0]):\n",
    "    temp_data = registry.iloc[i]\n",
    "    temp_tbl.extend([\n",
    "        f\"<span id='{temp_data['id']}'>{temp_data['id']}</span>\", temp_data['Award Title'], temp_data['Award Year'].astype(str), temp_data['Research Keywords'], temp_data['ic'],\n",
    "        f'[Link]({temp_data.URL})'\n",
    "    ])\n",
    "\n",
    "mdFile.new_table(columns=6, rows=registry.shape[0]+1, text=temp_tbl, text_align='left')\n",
    "mdFile.new_line()\n",
    "\n",
    "# Create file\n",
    "mdFile.create_md_file()"
   ]
  },
  {
   "cell_type": "code",
   "execution_count": null,
   "metadata": {},
   "outputs": [],
   "source": []
  }
 ],
 "metadata": {
  "kernelspec": {
   "display_name": "Python 3",
   "language": "python",
   "name": "python3"
  },
  "language_info": {
   "codemirror_mode": {
    "name": "ipython",
    "version": 3
   },
   "file_extension": ".py",
   "mimetype": "text/x-python",
   "name": "python",
   "nbconvert_exporter": "python",
   "pygments_lexer": "ipython3",
   "version": "3.7.3"
  }
 },
 "nbformat": 4,
 "nbformat_minor": 4
}
